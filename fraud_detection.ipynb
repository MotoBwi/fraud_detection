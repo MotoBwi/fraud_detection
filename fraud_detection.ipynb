{
 "cells": [
  {
   "cell_type": "code",
   "execution_count": 39,
   "id": "c5281927-a6c1-4992-b90e-23afe7786482",
   "metadata": {},
   "outputs": [],
   "source": [
    "import os\n",
    "import pandas as pd\n",
    "import numpy as np\n",
    "import pickle\n",
    "from sklearn.model_selection import train_test_split, GridSearchCV\n",
    "from sklearn.ensemble import RandomForestClassifier\n",
    "from sklearn.metrics import classification_report, roc_auc_score, accuracy_score\n",
    "from imblearn.over_sampling import SMOTE"
   ]
  },
  {
   "cell_type": "code",
   "execution_count": 40,
   "id": "938ed7ee-61ae-4516-aab0-e74507381e5d",
   "metadata": {},
   "outputs": [],
   "source": [
    "# Load Multiple .pkl Files from a Directory\n",
    "def load_data_from_directory(directory_path):\n",
    "    all_data = []\n",
    "    for file_name in os.listdir(directory_path):\n",
    "        if file_name.endswith('.pkl'):\n",
    "            file_path = os.path.join(directory_path, file_name)\n",
    "            print(f\"Loading file: {file_path}\")\n",
    "            df = pd.read_pickle(file_path)\n",
    "            all_data.append(df)\n",
    "    combined_data = pd.concat(all_data, ignore_index=True)\n",
    "    print(f\"Combined Data Shape: {combined_data.shape}\")\n",
    "    return combined_data"
   ]
  },
  {
   "cell_type": "code",
   "execution_count": 41,
   "id": "ca670bfb-dd57-4830-9534-803ae6647a40",
   "metadata": {},
   "outputs": [
    {
     "name": "stdout",
     "output_type": "stream",
     "text": [
      "Files extracted to: dataset/data/extracted_data\n"
     ]
    }
   ],
   "source": [
    "import zipfile\n",
    "import os\n",
    "\n",
    "zip_path = 'dataset/data/dataset.zip'\n",
    "extract_dir = 'dataset/data/extracted_data'\n",
    "\n",
    "# Create the directory to extract files if it doesn't exist\n",
    "os.makedirs(extract_dir, exist_ok=True)\n",
    "\n",
    "# Extract the contents of the zip file\n",
    "with zipfile.ZipFile(zip_path, 'r') as zip_ref:\n",
    "    zip_ref.extractall(extract_dir)\n",
    "\n",
    "print(f\"Files extracted to: {extract_dir}\")\n"
   ]
  },
  {
   "cell_type": "code",
   "execution_count": 42,
   "id": "e07e8b2a-9f85-4a03-b2fe-210c92a85650",
   "metadata": {},
   "outputs": [
    {
     "name": "stdout",
     "output_type": "stream",
     "text": [
      "Files in directory: ['2018-04-17.pkl', '2018-04-18.pkl', '2018-08-15.pkl', '2018-09-08.pkl', '2018-05-13.pkl', '2018-07-23.pkl', '2018-05-06.pkl', '2018-07-16.pkl', '2018-09-10.pkl', '2018-07-10.pkl', '2018-09-26.pkl', '2018-09-17.pkl', '2018-08-17.pkl', '2018-07-09.pkl', '2018-06-18.pkl', '2018-07-31.pkl', '2018-09-22.pkl', '2018-08-12.pkl', '2018-07-24.pkl', '2018-06-24.pkl', '2018-07-14.pkl', '2018-04-03.pkl', '2018-09-01.pkl', '2018-05-22.pkl', '2018-09-29.pkl', '2018-04-30.pkl', '2018-09-20.pkl', '2018-07-26.pkl', '2018-05-10.pkl', '2018-08-22.pkl', '2018-05-09.pkl', '2018-08-30.pkl', '2018-05-30.pkl', '2018-09-25.pkl', '2018-06-19.pkl', '2018-05-25.pkl', '2018-09-19.pkl', '2018-06-11.pkl', '2018-04-22.pkl', '2018-08-06.pkl', '2018-05-31.pkl', '2018-07-29.pkl', '2018-07-17.pkl', '2018-06-10.pkl', '2018-05-17.pkl', '2018-09-16.pkl', '2018-05-05.pkl', '2018-07-20.pkl', '2018-06-08.pkl', '2018-05-01.pkl', '2018-09-13.pkl', '2018-06-01.pkl', '2018-04-07.pkl', '2018-07-06.pkl', '2018-07-11.pkl', '2018-06-29.pkl', '2018-04-08.pkl', '2018-04-25.pkl', '2018-08-05.pkl', '2018-09-30.pkl', '2018-07-18.pkl', '2018-06-27.pkl', '2018-09-11.pkl', '2018-04-13.pkl', '2018-08-14.pkl', '2018-09-18.pkl', '2018-05-04.pkl', '2018-08-11.pkl', '2018-09-02.pkl', '2018-04-29.pkl', '2018-07-12.pkl', '2018-08-31.pkl', '2018-05-02.pkl', '2018-06-04.pkl', '2018-09-23.pkl', '2018-04-14.pkl', '2018-04-09.pkl', '2018-06-16.pkl', '2018-05-23.pkl', '2018-04-01.pkl', '2018-06-07.pkl', '2018-09-04.pkl', '2018-08-16.pkl', '2018-08-25.pkl', '2018-07-08.pkl', '2018-08-20.pkl', '2018-05-18.pkl', '2018-09-03.pkl', '2018-09-24.pkl', '2018-04-20.pkl', '2018-07-01.pkl', '2018-08-08.pkl', '2018-09-21.pkl', '2018-05-24.pkl', '2018-09-28.pkl', '2018-07-05.pkl', '2018-09-06.pkl', '2018-09-07.pkl', '2018-08-07.pkl', '2018-06-28.pkl', '2018-07-07.pkl', '2018-06-30.pkl', '2018-07-30.pkl', '2018-04-21.pkl', '2018-06-03.pkl', '2018-07-03.pkl', '2018-07-28.pkl', '2018-08-18.pkl', '2018-06-26.pkl', '2018-06-17.pkl', '2018-08-29.pkl', '2018-04-05.pkl', '2018-07-21.pkl', '2018-06-15.pkl', '2018-09-14.pkl', '2018-07-27.pkl', '2018-08-09.pkl', '2018-06-13.pkl', '2018-04-12.pkl', '2018-05-26.pkl', '2018-04-28.pkl', '2018-08-19.pkl', '2018-06-20.pkl', '2018-06-22.pkl', '2018-07-04.pkl', '2018-04-11.pkl', '2018-09-15.pkl', '2018-09-09.pkl', '2018-04-27.pkl', '2018-07-22.pkl', '2018-08-28.pkl', '2018-06-09.pkl', '2018-06-23.pkl', '2018-08-27.pkl', '2018-06-06.pkl', '2018-05-29.pkl', '2018-04-10.pkl', '2018-05-21.pkl', '2018-04-24.pkl', '2018-05-08.pkl', '2018-05-03.pkl', '2018-08-02.pkl', '2018-09-27.pkl', '2018-07-25.pkl', '2018-05-16.pkl', '2018-04-06.pkl', '2018-07-15.pkl', '2018-06-12.pkl', '2018-06-14.pkl', '2018-05-11.pkl', '2018-06-21.pkl', '2018-09-05.pkl', '2018-05-12.pkl', '2018-08-26.pkl', '2018-04-23.pkl', '2018-04-19.pkl', '2018-08-10.pkl', '2018-05-28.pkl', '2018-05-14.pkl', '2018-04-26.pkl', '2018-05-19.pkl', '2018-07-02.pkl', '2018-05-27.pkl', '2018-07-19.pkl', '2018-05-15.pkl', '2018-06-05.pkl', '2018-08-24.pkl', '2018-04-04.pkl', '2018-05-07.pkl', '2018-07-13.pkl', '2018-08-21.pkl', '2018-09-12.pkl', '2018-06-02.pkl', '2018-04-16.pkl', '2018-04-15.pkl', '2018-06-25.pkl', '2018-04-02.pkl', '2018-05-20.pkl', '2018-08-01.pkl', '2018-08-04.pkl', '2018-08-13.pkl', '2018-08-23.pkl', '2018-08-03.pkl']\n",
      "PKL files found: ['2018-04-17.pkl', '2018-04-18.pkl', '2018-08-15.pkl', '2018-09-08.pkl', '2018-05-13.pkl', '2018-07-23.pkl', '2018-05-06.pkl', '2018-07-16.pkl', '2018-09-10.pkl', '2018-07-10.pkl', '2018-09-26.pkl', '2018-09-17.pkl', '2018-08-17.pkl', '2018-07-09.pkl', '2018-06-18.pkl', '2018-07-31.pkl', '2018-09-22.pkl', '2018-08-12.pkl', '2018-07-24.pkl', '2018-06-24.pkl', '2018-07-14.pkl', '2018-04-03.pkl', '2018-09-01.pkl', '2018-05-22.pkl', '2018-09-29.pkl', '2018-04-30.pkl', '2018-09-20.pkl', '2018-07-26.pkl', '2018-05-10.pkl', '2018-08-22.pkl', '2018-05-09.pkl', '2018-08-30.pkl', '2018-05-30.pkl', '2018-09-25.pkl', '2018-06-19.pkl', '2018-05-25.pkl', '2018-09-19.pkl', '2018-06-11.pkl', '2018-04-22.pkl', '2018-08-06.pkl', '2018-05-31.pkl', '2018-07-29.pkl', '2018-07-17.pkl', '2018-06-10.pkl', '2018-05-17.pkl', '2018-09-16.pkl', '2018-05-05.pkl', '2018-07-20.pkl', '2018-06-08.pkl', '2018-05-01.pkl', '2018-09-13.pkl', '2018-06-01.pkl', '2018-04-07.pkl', '2018-07-06.pkl', '2018-07-11.pkl', '2018-06-29.pkl', '2018-04-08.pkl', '2018-04-25.pkl', '2018-08-05.pkl', '2018-09-30.pkl', '2018-07-18.pkl', '2018-06-27.pkl', '2018-09-11.pkl', '2018-04-13.pkl', '2018-08-14.pkl', '2018-09-18.pkl', '2018-05-04.pkl', '2018-08-11.pkl', '2018-09-02.pkl', '2018-04-29.pkl', '2018-07-12.pkl', '2018-08-31.pkl', '2018-05-02.pkl', '2018-06-04.pkl', '2018-09-23.pkl', '2018-04-14.pkl', '2018-04-09.pkl', '2018-06-16.pkl', '2018-05-23.pkl', '2018-04-01.pkl', '2018-06-07.pkl', '2018-09-04.pkl', '2018-08-16.pkl', '2018-08-25.pkl', '2018-07-08.pkl', '2018-08-20.pkl', '2018-05-18.pkl', '2018-09-03.pkl', '2018-09-24.pkl', '2018-04-20.pkl', '2018-07-01.pkl', '2018-08-08.pkl', '2018-09-21.pkl', '2018-05-24.pkl', '2018-09-28.pkl', '2018-07-05.pkl', '2018-09-06.pkl', '2018-09-07.pkl', '2018-08-07.pkl', '2018-06-28.pkl', '2018-07-07.pkl', '2018-06-30.pkl', '2018-07-30.pkl', '2018-04-21.pkl', '2018-06-03.pkl', '2018-07-03.pkl', '2018-07-28.pkl', '2018-08-18.pkl', '2018-06-26.pkl', '2018-06-17.pkl', '2018-08-29.pkl', '2018-04-05.pkl', '2018-07-21.pkl', '2018-06-15.pkl', '2018-09-14.pkl', '2018-07-27.pkl', '2018-08-09.pkl', '2018-06-13.pkl', '2018-04-12.pkl', '2018-05-26.pkl', '2018-04-28.pkl', '2018-08-19.pkl', '2018-06-20.pkl', '2018-06-22.pkl', '2018-07-04.pkl', '2018-04-11.pkl', '2018-09-15.pkl', '2018-09-09.pkl', '2018-04-27.pkl', '2018-07-22.pkl', '2018-08-28.pkl', '2018-06-09.pkl', '2018-06-23.pkl', '2018-08-27.pkl', '2018-06-06.pkl', '2018-05-29.pkl', '2018-04-10.pkl', '2018-05-21.pkl', '2018-04-24.pkl', '2018-05-08.pkl', '2018-05-03.pkl', '2018-08-02.pkl', '2018-09-27.pkl', '2018-07-25.pkl', '2018-05-16.pkl', '2018-04-06.pkl', '2018-07-15.pkl', '2018-06-12.pkl', '2018-06-14.pkl', '2018-05-11.pkl', '2018-06-21.pkl', '2018-09-05.pkl', '2018-05-12.pkl', '2018-08-26.pkl', '2018-04-23.pkl', '2018-04-19.pkl', '2018-08-10.pkl', '2018-05-28.pkl', '2018-05-14.pkl', '2018-04-26.pkl', '2018-05-19.pkl', '2018-07-02.pkl', '2018-05-27.pkl', '2018-07-19.pkl', '2018-05-15.pkl', '2018-06-05.pkl', '2018-08-24.pkl', '2018-04-04.pkl', '2018-05-07.pkl', '2018-07-13.pkl', '2018-08-21.pkl', '2018-09-12.pkl', '2018-06-02.pkl', '2018-04-16.pkl', '2018-04-15.pkl', '2018-06-25.pkl', '2018-04-02.pkl', '2018-05-20.pkl', '2018-08-01.pkl', '2018-08-04.pkl', '2018-08-13.pkl', '2018-08-23.pkl', '2018-08-03.pkl']\n"
     ]
    }
   ],
   "source": [
    "import os\n",
    "\n",
    "directory_path = 'dataset/data/extracted_data/data'\n",
    "\n",
    "# List all files in the directory\n",
    "files_in_directory = os.listdir(directory_path)\n",
    "print(\"Files in directory:\", files_in_directory)\n",
    "\n",
    "# Filter for .pkl files\n",
    "pkl_files = [file for file in files_in_directory if file.endswith('.pkl')]\n",
    "print(\"PKL files found:\", pkl_files)\n",
    "\n",
    "if not pkl_files:\n",
    "    print(\"No .pkl files found in the directory.\")\n"
   ]
  },
  {
   "cell_type": "code",
   "execution_count": 43,
   "id": "380ed4c9-a9fb-4192-a1f7-67aee295eea2",
   "metadata": {},
   "outputs": [],
   "source": [
    "# Feature Engineering\n",
    "data['TX_DATETIME'] = pd.to_datetime(data['TX_DATETIME'])\n",
    "data['TX_DAY'] = data['TX_DATETIME'].dt.day\n",
    "data['TX_HOUR'] = data['TX_DATETIME'].dt.hour\n",
    "data['AMOUNT_FLAG'] = (data['TX_AMOUNT'] > 220).astype(int)\n",
    "data = data.sort_values(by='TX_DATETIME')\n",
    "\n",
    "data['TERMINAL_FRAUD_COUNT'] = data.groupby('TERMINAL_ID')['TX_FRAUD'] \\\n",
    "    .rolling(window=28, min_periods=1).sum().reset_index(0, drop=True)\n",
    "customer_avg_spend = data.groupby('CUSTOMER_ID')['TX_AMOUNT'].mean()\n",
    "data['CUSTOMER_AVG_SPEND'] = data['CUSTOMER_ID'].map(customer_avg_spend)\n",
    "data.fillna(0, inplace=True)"
   ]
  },
  {
   "cell_type": "code",
   "execution_count": 44,
   "id": "614bb20c-0533-4c3c-8126-67f1ffcd80dd",
   "metadata": {},
   "outputs": [],
   "source": [
    "# Define Features (X) and Target (y)\n",
    "X = data.drop(['TRANSACTION_ID', 'TX_DATETIME', 'TX_FRAUD'], axis=1)\n",
    "y = data['TX_FRAUD']"
   ]
  },
  {
   "cell_type": "code",
   "execution_count": 45,
   "id": "fb9c75d9-41cb-40a8-a893-80899168b32a",
   "metadata": {},
   "outputs": [
    {
     "name": "stdout",
     "output_type": "stream",
     "text": [
      "Balancing the dataset using SMOTE...\n",
      "Resampled Dataset Shape: (38110, 12)\n"
     ]
    }
   ],
   "source": [
    "# Handle Imbalance Using SMOTE\n",
    "print(\"Balancing the dataset using SMOTE...\")\n",
    "smote = SMOTE(random_state=42)\n",
    "X_resampled, y_resampled = smote.fit_resample(X, y)\n",
    "print(f\"Resampled Dataset Shape: {X_resampled.shape}\")"
   ]
  },
  {
   "cell_type": "code",
   "execution_count": 46,
   "id": "6681ea43-4b63-475f-8b92-e73e918e1c5e",
   "metadata": {},
   "outputs": [],
   "source": [
    "# Split into Train and Test Sets\n",
    "X_train, X_test, y_train, y_test = train_test_split(X_resampled, y_resampled, test_size=0.2, random_state=42)"
   ]
  },
  {
   "cell_type": "code",
   "execution_count": 47,
   "id": "fceb247d-c71a-460a-9822-60385254e963",
   "metadata": {},
   "outputs": [
    {
     "name": "stdout",
     "output_type": "stream",
     "text": [
      "Tuning model hyperparameters...\n",
      "Fitting 3 folds for each of 81 candidates, totalling 243 fits\n",
      "[CV] END class_weight=balanced, max_depth=10, min_samples_leaf=1, min_samples_split=2, n_estimators=100; total time=   0.7s\n",
      "[CV] END class_weight=balanced, max_depth=10, min_samples_leaf=1, min_samples_split=2, n_estimators=100; total time=   0.7s\n",
      "[CV] END class_weight=balanced, max_depth=10, min_samples_leaf=1, min_samples_split=2, n_estimators=100; total time=   0.7s\n",
      "[CV] END class_weight=balanced, max_depth=10, min_samples_leaf=1, min_samples_split=2, n_estimators=200; total time=   1.3s\n",
      "[CV] END class_weight=balanced, max_depth=10, min_samples_leaf=1, min_samples_split=2, n_estimators=200; total time=   1.3s\n",
      "[CV] END class_weight=balanced, max_depth=10, min_samples_leaf=1, min_samples_split=2, n_estimators=200; total time=   1.4s\n",
      "[CV] END class_weight=balanced, max_depth=10, min_samples_leaf=1, min_samples_split=2, n_estimators=300; total time=   1.9s\n",
      "[CV] END class_weight=balanced, max_depth=10, min_samples_leaf=1, min_samples_split=2, n_estimators=300; total time=   1.9s\n",
      "[CV] END class_weight=balanced, max_depth=10, min_samples_leaf=1, min_samples_split=2, n_estimators=300; total time=   2.2s\n",
      "[CV] END class_weight=balanced, max_depth=10, min_samples_leaf=1, min_samples_split=5, n_estimators=100; total time=   0.7s\n",
      "[CV] END class_weight=balanced, max_depth=10, min_samples_leaf=1, min_samples_split=5, n_estimators=100; total time=   0.7s\n",
      "[CV] END class_weight=balanced, max_depth=10, min_samples_leaf=1, min_samples_split=5, n_estimators=100; total time=   0.7s\n",
      "[CV] END class_weight=balanced, max_depth=10, min_samples_leaf=1, min_samples_split=5, n_estimators=200; total time=   1.3s\n",
      "[CV] END class_weight=balanced, max_depth=10, min_samples_leaf=1, min_samples_split=5, n_estimators=200; total time=   1.3s\n",
      "[CV] END class_weight=balanced, max_depth=10, min_samples_leaf=1, min_samples_split=5, n_estimators=200; total time=   1.4s\n",
      "[CV] END class_weight=balanced, max_depth=10, min_samples_leaf=1, min_samples_split=5, n_estimators=300; total time=   2.0s\n",
      "[CV] END class_weight=balanced, max_depth=10, min_samples_leaf=1, min_samples_split=5, n_estimators=300; total time=   2.0s\n",
      "[CV] END class_weight=balanced, max_depth=10, min_samples_leaf=1, min_samples_split=5, n_estimators=300; total time=   2.2s\n",
      "[CV] END class_weight=balanced, max_depth=10, min_samples_leaf=1, min_samples_split=10, n_estimators=100; total time=   0.7s\n",
      "[CV] END class_weight=balanced, max_depth=10, min_samples_leaf=1, min_samples_split=10, n_estimators=100; total time=   0.7s\n",
      "[CV] END class_weight=balanced, max_depth=10, min_samples_leaf=1, min_samples_split=10, n_estimators=100; total time=   0.7s\n",
      "[CV] END class_weight=balanced, max_depth=10, min_samples_leaf=1, min_samples_split=10, n_estimators=200; total time=   1.3s\n",
      "[CV] END class_weight=balanced, max_depth=10, min_samples_leaf=1, min_samples_split=10, n_estimators=200; total time=   1.3s\n",
      "[CV] END class_weight=balanced, max_depth=10, min_samples_leaf=1, min_samples_split=10, n_estimators=200; total time=   1.4s\n",
      "[CV] END class_weight=balanced, max_depth=10, min_samples_leaf=1, min_samples_split=10, n_estimators=300; total time=   2.0s\n",
      "[CV] END class_weight=balanced, max_depth=10, min_samples_leaf=1, min_samples_split=10, n_estimators=300; total time=   2.0s\n",
      "[CV] END class_weight=balanced, max_depth=10, min_samples_leaf=1, min_samples_split=10, n_estimators=300; total time=   2.1s\n",
      "[CV] END class_weight=balanced, max_depth=10, min_samples_leaf=2, min_samples_split=2, n_estimators=100; total time=   0.7s\n",
      "[CV] END class_weight=balanced, max_depth=10, min_samples_leaf=2, min_samples_split=2, n_estimators=100; total time=   0.7s\n",
      "[CV] END class_weight=balanced, max_depth=10, min_samples_leaf=2, min_samples_split=2, n_estimators=100; total time=   0.7s\n",
      "[CV] END class_weight=balanced, max_depth=10, min_samples_leaf=2, min_samples_split=2, n_estimators=200; total time=   1.3s\n",
      "[CV] END class_weight=balanced, max_depth=10, min_samples_leaf=2, min_samples_split=2, n_estimators=200; total time=   1.4s\n",
      "[CV] END class_weight=balanced, max_depth=10, min_samples_leaf=2, min_samples_split=2, n_estimators=200; total time=   1.4s\n",
      "[CV] END class_weight=balanced, max_depth=10, min_samples_leaf=2, min_samples_split=2, n_estimators=300; total time=   1.9s\n",
      "[CV] END class_weight=balanced, max_depth=10, min_samples_leaf=2, min_samples_split=2, n_estimators=300; total time=   1.9s\n",
      "[CV] END class_weight=balanced, max_depth=10, min_samples_leaf=2, min_samples_split=2, n_estimators=300; total time=   2.1s\n",
      "[CV] END class_weight=balanced, max_depth=10, min_samples_leaf=2, min_samples_split=5, n_estimators=100; total time=   0.6s\n",
      "[CV] END class_weight=balanced, max_depth=10, min_samples_leaf=2, min_samples_split=5, n_estimators=100; total time=   0.6s\n",
      "[CV] END class_weight=balanced, max_depth=10, min_samples_leaf=2, min_samples_split=5, n_estimators=100; total time=   0.7s\n",
      "[CV] END class_weight=balanced, max_depth=10, min_samples_leaf=2, min_samples_split=5, n_estimators=200; total time=   1.3s\n",
      "[CV] END class_weight=balanced, max_depth=10, min_samples_leaf=2, min_samples_split=5, n_estimators=200; total time=   1.3s\n",
      "[CV] END class_weight=balanced, max_depth=10, min_samples_leaf=2, min_samples_split=5, n_estimators=200; total time=   1.4s\n",
      "[CV] END class_weight=balanced, max_depth=10, min_samples_leaf=2, min_samples_split=5, n_estimators=300; total time=   1.9s\n",
      "[CV] END class_weight=balanced, max_depth=10, min_samples_leaf=2, min_samples_split=5, n_estimators=300; total time=   1.9s\n",
      "[CV] END class_weight=balanced, max_depth=10, min_samples_leaf=2, min_samples_split=5, n_estimators=300; total time=   2.1s\n",
      "[CV] END class_weight=balanced, max_depth=10, min_samples_leaf=2, min_samples_split=10, n_estimators=100; total time=   0.7s\n",
      "[CV] END class_weight=balanced, max_depth=10, min_samples_leaf=2, min_samples_split=10, n_estimators=100; total time=   0.6s\n",
      "[CV] END class_weight=balanced, max_depth=10, min_samples_leaf=2, min_samples_split=10, n_estimators=100; total time=   0.7s\n",
      "[CV] END class_weight=balanced, max_depth=10, min_samples_leaf=2, min_samples_split=10, n_estimators=200; total time=   1.3s\n",
      "[CV] END class_weight=balanced, max_depth=10, min_samples_leaf=2, min_samples_split=10, n_estimators=200; total time=   1.3s\n",
      "[CV] END class_weight=balanced, max_depth=10, min_samples_leaf=2, min_samples_split=10, n_estimators=200; total time=   1.4s\n",
      "[CV] END class_weight=balanced, max_depth=10, min_samples_leaf=2, min_samples_split=10, n_estimators=300; total time=   1.9s\n",
      "[CV] END class_weight=balanced, max_depth=10, min_samples_leaf=2, min_samples_split=10, n_estimators=300; total time=   1.9s\n",
      "[CV] END class_weight=balanced, max_depth=10, min_samples_leaf=2, min_samples_split=10, n_estimators=300; total time=   2.1s\n",
      "[CV] END class_weight=balanced, max_depth=10, min_samples_leaf=4, min_samples_split=2, n_estimators=100; total time=   0.7s\n",
      "[CV] END class_weight=balanced, max_depth=10, min_samples_leaf=4, min_samples_split=2, n_estimators=100; total time=   0.7s\n",
      "[CV] END class_weight=balanced, max_depth=10, min_samples_leaf=4, min_samples_split=2, n_estimators=100; total time=   0.7s\n",
      "[CV] END class_weight=balanced, max_depth=10, min_samples_leaf=4, min_samples_split=2, n_estimators=200; total time=   1.3s\n",
      "[CV] END class_weight=balanced, max_depth=10, min_samples_leaf=4, min_samples_split=2, n_estimators=200; total time=   1.3s\n",
      "[CV] END class_weight=balanced, max_depth=10, min_samples_leaf=4, min_samples_split=2, n_estimators=200; total time=   1.4s\n",
      "[CV] END class_weight=balanced, max_depth=10, min_samples_leaf=4, min_samples_split=2, n_estimators=300; total time=   2.0s\n",
      "[CV] END class_weight=balanced, max_depth=10, min_samples_leaf=4, min_samples_split=2, n_estimators=300; total time=   1.9s\n",
      "[CV] END class_weight=balanced, max_depth=10, min_samples_leaf=4, min_samples_split=2, n_estimators=300; total time=   2.2s\n",
      "[CV] END class_weight=balanced, max_depth=10, min_samples_leaf=4, min_samples_split=5, n_estimators=100; total time=   0.7s\n",
      "[CV] END class_weight=balanced, max_depth=10, min_samples_leaf=4, min_samples_split=5, n_estimators=100; total time=   0.7s\n",
      "[CV] END class_weight=balanced, max_depth=10, min_samples_leaf=4, min_samples_split=5, n_estimators=100; total time=   0.7s\n",
      "[CV] END class_weight=balanced, max_depth=10, min_samples_leaf=4, min_samples_split=5, n_estimators=200; total time=   1.3s\n",
      "[CV] END class_weight=balanced, max_depth=10, min_samples_leaf=4, min_samples_split=5, n_estimators=200; total time=   1.3s\n",
      "[CV] END class_weight=balanced, max_depth=10, min_samples_leaf=4, min_samples_split=5, n_estimators=200; total time=   1.4s\n",
      "[CV] END class_weight=balanced, max_depth=10, min_samples_leaf=4, min_samples_split=5, n_estimators=300; total time=   2.0s\n",
      "[CV] END class_weight=balanced, max_depth=10, min_samples_leaf=4, min_samples_split=5, n_estimators=300; total time=   2.0s\n",
      "[CV] END class_weight=balanced, max_depth=10, min_samples_leaf=4, min_samples_split=5, n_estimators=300; total time=   2.2s\n",
      "[CV] END class_weight=balanced, max_depth=10, min_samples_leaf=4, min_samples_split=10, n_estimators=100; total time=   0.7s\n",
      "[CV] END class_weight=balanced, max_depth=10, min_samples_leaf=4, min_samples_split=10, n_estimators=100; total time=   0.7s\n",
      "[CV] END class_weight=balanced, max_depth=10, min_samples_leaf=4, min_samples_split=10, n_estimators=100; total time=   0.7s\n",
      "[CV] END class_weight=balanced, max_depth=10, min_samples_leaf=4, min_samples_split=10, n_estimators=200; total time=   1.3s\n",
      "[CV] END class_weight=balanced, max_depth=10, min_samples_leaf=4, min_samples_split=10, n_estimators=200; total time=   1.3s\n",
      "[CV] END class_weight=balanced, max_depth=10, min_samples_leaf=4, min_samples_split=10, n_estimators=200; total time=   1.5s\n",
      "[CV] END class_weight=balanced, max_depth=10, min_samples_leaf=4, min_samples_split=10, n_estimators=300; total time=   2.0s\n",
      "[CV] END class_weight=balanced, max_depth=10, min_samples_leaf=4, min_samples_split=10, n_estimators=300; total time=   2.0s\n",
      "[CV] END class_weight=balanced, max_depth=10, min_samples_leaf=4, min_samples_split=10, n_estimators=300; total time=   2.2s\n",
      "[CV] END class_weight=balanced, max_depth=20, min_samples_leaf=1, min_samples_split=2, n_estimators=100; total time=   0.7s\n",
      "[CV] END class_weight=balanced, max_depth=20, min_samples_leaf=1, min_samples_split=2, n_estimators=100; total time=   0.7s\n",
      "[CV] END class_weight=balanced, max_depth=20, min_samples_leaf=1, min_samples_split=2, n_estimators=100; total time=   0.7s\n",
      "[CV] END class_weight=balanced, max_depth=20, min_samples_leaf=1, min_samples_split=2, n_estimators=200; total time=   1.3s\n",
      "[CV] END class_weight=balanced, max_depth=20, min_samples_leaf=1, min_samples_split=2, n_estimators=200; total time=   1.3s\n",
      "[CV] END class_weight=balanced, max_depth=20, min_samples_leaf=1, min_samples_split=2, n_estimators=200; total time=   1.4s\n",
      "[CV] END class_weight=balanced, max_depth=20, min_samples_leaf=1, min_samples_split=2, n_estimators=300; total time=   2.0s\n",
      "[CV] END class_weight=balanced, max_depth=20, min_samples_leaf=1, min_samples_split=2, n_estimators=300; total time=   1.9s\n",
      "[CV] END class_weight=balanced, max_depth=20, min_samples_leaf=1, min_samples_split=2, n_estimators=300; total time=   2.1s\n",
      "[CV] END class_weight=balanced, max_depth=20, min_samples_leaf=1, min_samples_split=5, n_estimators=100; total time=   0.7s\n",
      "[CV] END class_weight=balanced, max_depth=20, min_samples_leaf=1, min_samples_split=5, n_estimators=100; total time=   0.7s\n",
      "[CV] END class_weight=balanced, max_depth=20, min_samples_leaf=1, min_samples_split=5, n_estimators=100; total time=   0.7s\n",
      "[CV] END class_weight=balanced, max_depth=20, min_samples_leaf=1, min_samples_split=5, n_estimators=200; total time=   1.3s\n",
      "[CV] END class_weight=balanced, max_depth=20, min_samples_leaf=1, min_samples_split=5, n_estimators=200; total time=   1.3s\n",
      "[CV] END class_weight=balanced, max_depth=20, min_samples_leaf=1, min_samples_split=5, n_estimators=200; total time=   1.4s\n",
      "[CV] END class_weight=balanced, max_depth=20, min_samples_leaf=1, min_samples_split=5, n_estimators=300; total time=   1.9s\n",
      "[CV] END class_weight=balanced, max_depth=20, min_samples_leaf=1, min_samples_split=5, n_estimators=300; total time=   1.9s\n",
      "[CV] END class_weight=balanced, max_depth=20, min_samples_leaf=1, min_samples_split=5, n_estimators=300; total time=   2.1s\n",
      "[CV] END class_weight=balanced, max_depth=20, min_samples_leaf=1, min_samples_split=10, n_estimators=100; total time=   0.7s\n",
      "[CV] END class_weight=balanced, max_depth=20, min_samples_leaf=1, min_samples_split=10, n_estimators=100; total time=   0.7s\n",
      "[CV] END class_weight=balanced, max_depth=20, min_samples_leaf=1, min_samples_split=10, n_estimators=100; total time=   0.7s\n",
      "[CV] END class_weight=balanced, max_depth=20, min_samples_leaf=1, min_samples_split=10, n_estimators=200; total time=   1.3s\n",
      "[CV] END class_weight=balanced, max_depth=20, min_samples_leaf=1, min_samples_split=10, n_estimators=200; total time=   1.3s\n",
      "[CV] END class_weight=balanced, max_depth=20, min_samples_leaf=1, min_samples_split=10, n_estimators=200; total time=   1.4s\n",
      "[CV] END class_weight=balanced, max_depth=20, min_samples_leaf=1, min_samples_split=10, n_estimators=300; total time=   1.9s\n",
      "[CV] END class_weight=balanced, max_depth=20, min_samples_leaf=1, min_samples_split=10, n_estimators=300; total time=   1.9s\n",
      "[CV] END class_weight=balanced, max_depth=20, min_samples_leaf=1, min_samples_split=10, n_estimators=300; total time=   2.1s\n",
      "[CV] END class_weight=balanced, max_depth=20, min_samples_leaf=2, min_samples_split=2, n_estimators=100; total time=   0.7s\n",
      "[CV] END class_weight=balanced, max_depth=20, min_samples_leaf=2, min_samples_split=2, n_estimators=100; total time=   0.7s\n",
      "[CV] END class_weight=balanced, max_depth=20, min_samples_leaf=2, min_samples_split=2, n_estimators=100; total time=   0.7s\n",
      "[CV] END class_weight=balanced, max_depth=20, min_samples_leaf=2, min_samples_split=2, n_estimators=200; total time=   1.3s\n",
      "[CV] END class_weight=balanced, max_depth=20, min_samples_leaf=2, min_samples_split=2, n_estimators=200; total time=   1.3s\n",
      "[CV] END class_weight=balanced, max_depth=20, min_samples_leaf=2, min_samples_split=2, n_estimators=200; total time=   1.4s\n",
      "[CV] END class_weight=balanced, max_depth=20, min_samples_leaf=2, min_samples_split=2, n_estimators=300; total time=   1.9s\n",
      "[CV] END class_weight=balanced, max_depth=20, min_samples_leaf=2, min_samples_split=2, n_estimators=300; total time=   1.9s\n",
      "[CV] END class_weight=balanced, max_depth=20, min_samples_leaf=2, min_samples_split=2, n_estimators=300; total time=   2.1s\n",
      "[CV] END class_weight=balanced, max_depth=20, min_samples_leaf=2, min_samples_split=5, n_estimators=100; total time=   0.7s\n",
      "[CV] END class_weight=balanced, max_depth=20, min_samples_leaf=2, min_samples_split=5, n_estimators=100; total time=   0.6s\n",
      "[CV] END class_weight=balanced, max_depth=20, min_samples_leaf=2, min_samples_split=5, n_estimators=100; total time=   0.7s\n",
      "[CV] END class_weight=balanced, max_depth=20, min_samples_leaf=2, min_samples_split=5, n_estimators=200; total time=   1.3s\n",
      "[CV] END class_weight=balanced, max_depth=20, min_samples_leaf=2, min_samples_split=5, n_estimators=200; total time=   1.3s\n",
      "[CV] END class_weight=balanced, max_depth=20, min_samples_leaf=2, min_samples_split=5, n_estimators=200; total time=   1.4s\n",
      "[CV] END class_weight=balanced, max_depth=20, min_samples_leaf=2, min_samples_split=5, n_estimators=300; total time=   1.9s\n",
      "[CV] END class_weight=balanced, max_depth=20, min_samples_leaf=2, min_samples_split=5, n_estimators=300; total time=   1.9s\n",
      "[CV] END class_weight=balanced, max_depth=20, min_samples_leaf=2, min_samples_split=5, n_estimators=300; total time=   2.1s\n",
      "[CV] END class_weight=balanced, max_depth=20, min_samples_leaf=2, min_samples_split=10, n_estimators=100; total time=   0.6s\n",
      "[CV] END class_weight=balanced, max_depth=20, min_samples_leaf=2, min_samples_split=10, n_estimators=100; total time=   0.7s\n",
      "[CV] END class_weight=balanced, max_depth=20, min_samples_leaf=2, min_samples_split=10, n_estimators=100; total time=   0.7s\n",
      "[CV] END class_weight=balanced, max_depth=20, min_samples_leaf=2, min_samples_split=10, n_estimators=200; total time=   1.3s\n",
      "[CV] END class_weight=balanced, max_depth=20, min_samples_leaf=2, min_samples_split=10, n_estimators=200; total time=   1.3s\n",
      "[CV] END class_weight=balanced, max_depth=20, min_samples_leaf=2, min_samples_split=10, n_estimators=200; total time=   1.4s\n",
      "[CV] END class_weight=balanced, max_depth=20, min_samples_leaf=2, min_samples_split=10, n_estimators=300; total time=   1.9s\n",
      "[CV] END class_weight=balanced, max_depth=20, min_samples_leaf=2, min_samples_split=10, n_estimators=300; total time=   1.9s\n",
      "[CV] END class_weight=balanced, max_depth=20, min_samples_leaf=2, min_samples_split=10, n_estimators=300; total time=   2.1s\n",
      "[CV] END class_weight=balanced, max_depth=20, min_samples_leaf=4, min_samples_split=2, n_estimators=100; total time=   0.7s\n",
      "[CV] END class_weight=balanced, max_depth=20, min_samples_leaf=4, min_samples_split=2, n_estimators=100; total time=   0.7s\n",
      "[CV] END class_weight=balanced, max_depth=20, min_samples_leaf=4, min_samples_split=2, n_estimators=100; total time=   0.7s\n",
      "[CV] END class_weight=balanced, max_depth=20, min_samples_leaf=4, min_samples_split=2, n_estimators=200; total time=   1.3s\n",
      "[CV] END class_weight=balanced, max_depth=20, min_samples_leaf=4, min_samples_split=2, n_estimators=200; total time=   1.3s\n",
      "[CV] END class_weight=balanced, max_depth=20, min_samples_leaf=4, min_samples_split=2, n_estimators=200; total time=   1.5s\n",
      "[CV] END class_weight=balanced, max_depth=20, min_samples_leaf=4, min_samples_split=2, n_estimators=300; total time=   2.0s\n",
      "[CV] END class_weight=balanced, max_depth=20, min_samples_leaf=4, min_samples_split=2, n_estimators=300; total time=   1.9s\n",
      "[CV] END class_weight=balanced, max_depth=20, min_samples_leaf=4, min_samples_split=2, n_estimators=300; total time=   2.1s\n",
      "[CV] END class_weight=balanced, max_depth=20, min_samples_leaf=4, min_samples_split=5, n_estimators=100; total time=   0.7s\n",
      "[CV] END class_weight=balanced, max_depth=20, min_samples_leaf=4, min_samples_split=5, n_estimators=100; total time=   0.7s\n",
      "[CV] END class_weight=balanced, max_depth=20, min_samples_leaf=4, min_samples_split=5, n_estimators=100; total time=   0.7s\n",
      "[CV] END class_weight=balanced, max_depth=20, min_samples_leaf=4, min_samples_split=5, n_estimators=200; total time=   1.3s\n",
      "[CV] END class_weight=balanced, max_depth=20, min_samples_leaf=4, min_samples_split=5, n_estimators=200; total time=   1.3s\n",
      "[CV] END class_weight=balanced, max_depth=20, min_samples_leaf=4, min_samples_split=5, n_estimators=200; total time=   1.4s\n",
      "[CV] END class_weight=balanced, max_depth=20, min_samples_leaf=4, min_samples_split=5, n_estimators=300; total time=   2.0s\n",
      "[CV] END class_weight=balanced, max_depth=20, min_samples_leaf=4, min_samples_split=5, n_estimators=300; total time=   1.9s\n",
      "[CV] END class_weight=balanced, max_depth=20, min_samples_leaf=4, min_samples_split=5, n_estimators=300; total time=   2.2s\n",
      "[CV] END class_weight=balanced, max_depth=20, min_samples_leaf=4, min_samples_split=10, n_estimators=100; total time=   0.7s\n",
      "[CV] END class_weight=balanced, max_depth=20, min_samples_leaf=4, min_samples_split=10, n_estimators=100; total time=   0.6s\n",
      "[CV] END class_weight=balanced, max_depth=20, min_samples_leaf=4, min_samples_split=10, n_estimators=100; total time=   0.7s\n",
      "[CV] END class_weight=balanced, max_depth=20, min_samples_leaf=4, min_samples_split=10, n_estimators=200; total time=   1.3s\n",
      "[CV] END class_weight=balanced, max_depth=20, min_samples_leaf=4, min_samples_split=10, n_estimators=200; total time=   1.3s\n",
      "[CV] END class_weight=balanced, max_depth=20, min_samples_leaf=4, min_samples_split=10, n_estimators=200; total time=   1.4s\n",
      "[CV] END class_weight=balanced, max_depth=20, min_samples_leaf=4, min_samples_split=10, n_estimators=300; total time=   2.0s\n",
      "[CV] END class_weight=balanced, max_depth=20, min_samples_leaf=4, min_samples_split=10, n_estimators=300; total time=   1.9s\n",
      "[CV] END class_weight=balanced, max_depth=20, min_samples_leaf=4, min_samples_split=10, n_estimators=300; total time=   2.1s\n",
      "[CV] END class_weight=balanced, max_depth=30, min_samples_leaf=1, min_samples_split=2, n_estimators=100; total time=   0.7s\n",
      "[CV] END class_weight=balanced, max_depth=30, min_samples_leaf=1, min_samples_split=2, n_estimators=100; total time=   0.7s\n",
      "[CV] END class_weight=balanced, max_depth=30, min_samples_leaf=1, min_samples_split=2, n_estimators=100; total time=   0.7s\n",
      "[CV] END class_weight=balanced, max_depth=30, min_samples_leaf=1, min_samples_split=2, n_estimators=200; total time=   1.3s\n",
      "[CV] END class_weight=balanced, max_depth=30, min_samples_leaf=1, min_samples_split=2, n_estimators=200; total time=   1.3s\n",
      "[CV] END class_weight=balanced, max_depth=30, min_samples_leaf=1, min_samples_split=2, n_estimators=200; total time=   1.4s\n",
      "[CV] END class_weight=balanced, max_depth=30, min_samples_leaf=1, min_samples_split=2, n_estimators=300; total time=   1.9s\n",
      "[CV] END class_weight=balanced, max_depth=30, min_samples_leaf=1, min_samples_split=2, n_estimators=300; total time=   1.9s\n",
      "[CV] END class_weight=balanced, max_depth=30, min_samples_leaf=1, min_samples_split=2, n_estimators=300; total time=   2.2s\n",
      "[CV] END class_weight=balanced, max_depth=30, min_samples_leaf=1, min_samples_split=5, n_estimators=100; total time=   0.7s\n",
      "[CV] END class_weight=balanced, max_depth=30, min_samples_leaf=1, min_samples_split=5, n_estimators=100; total time=   0.7s\n",
      "[CV] END class_weight=balanced, max_depth=30, min_samples_leaf=1, min_samples_split=5, n_estimators=100; total time=   0.7s\n",
      "[CV] END class_weight=balanced, max_depth=30, min_samples_leaf=1, min_samples_split=5, n_estimators=200; total time=   1.3s\n",
      "[CV] END class_weight=balanced, max_depth=30, min_samples_leaf=1, min_samples_split=5, n_estimators=200; total time=   1.3s\n",
      "[CV] END class_weight=balanced, max_depth=30, min_samples_leaf=1, min_samples_split=5, n_estimators=200; total time=   1.5s\n",
      "[CV] END class_weight=balanced, max_depth=30, min_samples_leaf=1, min_samples_split=5, n_estimators=300; total time=   2.0s\n",
      "[CV] END class_weight=balanced, max_depth=30, min_samples_leaf=1, min_samples_split=5, n_estimators=300; total time=   1.9s\n",
      "[CV] END class_weight=balanced, max_depth=30, min_samples_leaf=1, min_samples_split=5, n_estimators=300; total time=   2.1s\n",
      "[CV] END class_weight=balanced, max_depth=30, min_samples_leaf=1, min_samples_split=10, n_estimators=100; total time=   0.7s\n",
      "[CV] END class_weight=balanced, max_depth=30, min_samples_leaf=1, min_samples_split=10, n_estimators=100; total time=   0.7s\n",
      "[CV] END class_weight=balanced, max_depth=30, min_samples_leaf=1, min_samples_split=10, n_estimators=100; total time=   0.7s\n",
      "[CV] END class_weight=balanced, max_depth=30, min_samples_leaf=1, min_samples_split=10, n_estimators=200; total time=   1.3s\n",
      "[CV] END class_weight=balanced, max_depth=30, min_samples_leaf=1, min_samples_split=10, n_estimators=200; total time=   1.3s\n",
      "[CV] END class_weight=balanced, max_depth=30, min_samples_leaf=1, min_samples_split=10, n_estimators=200; total time=   1.4s\n",
      "[CV] END class_weight=balanced, max_depth=30, min_samples_leaf=1, min_samples_split=10, n_estimators=300; total time=   2.0s\n",
      "[CV] END class_weight=balanced, max_depth=30, min_samples_leaf=1, min_samples_split=10, n_estimators=300; total time=   2.0s\n",
      "[CV] END class_weight=balanced, max_depth=30, min_samples_leaf=1, min_samples_split=10, n_estimators=300; total time=   2.2s\n",
      "[CV] END class_weight=balanced, max_depth=30, min_samples_leaf=2, min_samples_split=2, n_estimators=100; total time=   0.7s\n",
      "[CV] END class_weight=balanced, max_depth=30, min_samples_leaf=2, min_samples_split=2, n_estimators=100; total time=   0.7s\n",
      "[CV] END class_weight=balanced, max_depth=30, min_samples_leaf=2, min_samples_split=2, n_estimators=100; total time=   0.7s\n",
      "[CV] END class_weight=balanced, max_depth=30, min_samples_leaf=2, min_samples_split=2, n_estimators=200; total time=   1.3s\n",
      "[CV] END class_weight=balanced, max_depth=30, min_samples_leaf=2, min_samples_split=2, n_estimators=200; total time=   1.3s\n",
      "[CV] END class_weight=balanced, max_depth=30, min_samples_leaf=2, min_samples_split=2, n_estimators=200; total time=   1.4s\n",
      "[CV] END class_weight=balanced, max_depth=30, min_samples_leaf=2, min_samples_split=2, n_estimators=300; total time=   2.0s\n",
      "[CV] END class_weight=balanced, max_depth=30, min_samples_leaf=2, min_samples_split=2, n_estimators=300; total time=   1.9s\n",
      "[CV] END class_weight=balanced, max_depth=30, min_samples_leaf=2, min_samples_split=2, n_estimators=300; total time=   2.2s\n",
      "[CV] END class_weight=balanced, max_depth=30, min_samples_leaf=2, min_samples_split=5, n_estimators=100; total time=   0.7s\n",
      "[CV] END class_weight=balanced, max_depth=30, min_samples_leaf=2, min_samples_split=5, n_estimators=100; total time=   0.7s\n",
      "[CV] END class_weight=balanced, max_depth=30, min_samples_leaf=2, min_samples_split=5, n_estimators=100; total time=   0.7s\n",
      "[CV] END class_weight=balanced, max_depth=30, min_samples_leaf=2, min_samples_split=5, n_estimators=200; total time=   1.3s\n",
      "[CV] END class_weight=balanced, max_depth=30, min_samples_leaf=2, min_samples_split=5, n_estimators=200; total time=   1.3s\n",
      "[CV] END class_weight=balanced, max_depth=30, min_samples_leaf=2, min_samples_split=5, n_estimators=200; total time=   1.4s\n",
      "[CV] END class_weight=balanced, max_depth=30, min_samples_leaf=2, min_samples_split=5, n_estimators=300; total time=   2.0s\n",
      "[CV] END class_weight=balanced, max_depth=30, min_samples_leaf=2, min_samples_split=5, n_estimators=300; total time=   1.9s\n",
      "[CV] END class_weight=balanced, max_depth=30, min_samples_leaf=2, min_samples_split=5, n_estimators=300; total time=   2.2s\n",
      "[CV] END class_weight=balanced, max_depth=30, min_samples_leaf=2, min_samples_split=10, n_estimators=100; total time=   0.7s\n",
      "[CV] END class_weight=balanced, max_depth=30, min_samples_leaf=2, min_samples_split=10, n_estimators=100; total time=   0.7s\n",
      "[CV] END class_weight=balanced, max_depth=30, min_samples_leaf=2, min_samples_split=10, n_estimators=100; total time=   0.7s\n",
      "[CV] END class_weight=balanced, max_depth=30, min_samples_leaf=2, min_samples_split=10, n_estimators=200; total time=   1.3s\n",
      "[CV] END class_weight=balanced, max_depth=30, min_samples_leaf=2, min_samples_split=10, n_estimators=200; total time=   1.3s\n",
      "[CV] END class_weight=balanced, max_depth=30, min_samples_leaf=2, min_samples_split=10, n_estimators=200; total time=   1.4s\n",
      "[CV] END class_weight=balanced, max_depth=30, min_samples_leaf=2, min_samples_split=10, n_estimators=300; total time=   2.0s\n",
      "[CV] END class_weight=balanced, max_depth=30, min_samples_leaf=2, min_samples_split=10, n_estimators=300; total time=   2.0s\n",
      "[CV] END class_weight=balanced, max_depth=30, min_samples_leaf=2, min_samples_split=10, n_estimators=300; total time=   2.1s\n",
      "[CV] END class_weight=balanced, max_depth=30, min_samples_leaf=4, min_samples_split=2, n_estimators=100; total time=   0.7s\n",
      "[CV] END class_weight=balanced, max_depth=30, min_samples_leaf=4, min_samples_split=2, n_estimators=100; total time=   0.7s\n",
      "[CV] END class_weight=balanced, max_depth=30, min_samples_leaf=4, min_samples_split=2, n_estimators=100; total time=   0.8s\n",
      "[CV] END class_weight=balanced, max_depth=30, min_samples_leaf=4, min_samples_split=2, n_estimators=200; total time=   1.3s\n",
      "[CV] END class_weight=balanced, max_depth=30, min_samples_leaf=4, min_samples_split=2, n_estimators=200; total time=   1.4s\n",
      "[CV] END class_weight=balanced, max_depth=30, min_samples_leaf=4, min_samples_split=2, n_estimators=200; total time=   1.5s\n",
      "[CV] END class_weight=balanced, max_depth=30, min_samples_leaf=4, min_samples_split=2, n_estimators=300; total time=   2.0s\n",
      "[CV] END class_weight=balanced, max_depth=30, min_samples_leaf=4, min_samples_split=2, n_estimators=300; total time=   2.0s\n",
      "[CV] END class_weight=balanced, max_depth=30, min_samples_leaf=4, min_samples_split=2, n_estimators=300; total time=   2.3s\n",
      "[CV] END class_weight=balanced, max_depth=30, min_samples_leaf=4, min_samples_split=5, n_estimators=100; total time=   0.7s\n",
      "[CV] END class_weight=balanced, max_depth=30, min_samples_leaf=4, min_samples_split=5, n_estimators=100; total time=   0.7s\n",
      "[CV] END class_weight=balanced, max_depth=30, min_samples_leaf=4, min_samples_split=5, n_estimators=100; total time=   0.8s\n",
      "[CV] END class_weight=balanced, max_depth=30, min_samples_leaf=4, min_samples_split=5, n_estimators=200; total time=   1.4s\n",
      "[CV] END class_weight=balanced, max_depth=30, min_samples_leaf=4, min_samples_split=5, n_estimators=200; total time=   1.3s\n",
      "[CV] END class_weight=balanced, max_depth=30, min_samples_leaf=4, min_samples_split=5, n_estimators=200; total time=   1.5s\n",
      "[CV] END class_weight=balanced, max_depth=30, min_samples_leaf=4, min_samples_split=5, n_estimators=300; total time=   2.0s\n",
      "[CV] END class_weight=balanced, max_depth=30, min_samples_leaf=4, min_samples_split=5, n_estimators=300; total time=   2.0s\n",
      "[CV] END class_weight=balanced, max_depth=30, min_samples_leaf=4, min_samples_split=5, n_estimators=300; total time=   2.2s\n",
      "[CV] END class_weight=balanced, max_depth=30, min_samples_leaf=4, min_samples_split=10, n_estimators=100; total time=   0.7s\n",
      "[CV] END class_weight=balanced, max_depth=30, min_samples_leaf=4, min_samples_split=10, n_estimators=100; total time=   0.7s\n",
      "[CV] END class_weight=balanced, max_depth=30, min_samples_leaf=4, min_samples_split=10, n_estimators=100; total time=   0.7s\n",
      "[CV] END class_weight=balanced, max_depth=30, min_samples_leaf=4, min_samples_split=10, n_estimators=200; total time=   1.3s\n",
      "[CV] END class_weight=balanced, max_depth=30, min_samples_leaf=4, min_samples_split=10, n_estimators=200; total time=   1.3s\n",
      "[CV] END class_weight=balanced, max_depth=30, min_samples_leaf=4, min_samples_split=10, n_estimators=200; total time=   1.5s\n",
      "[CV] END class_weight=balanced, max_depth=30, min_samples_leaf=4, min_samples_split=10, n_estimators=300; total time=   2.0s\n",
      "[CV] END class_weight=balanced, max_depth=30, min_samples_leaf=4, min_samples_split=10, n_estimators=300; total time=   2.0s\n",
      "[CV] END class_weight=balanced, max_depth=30, min_samples_leaf=4, min_samples_split=10, n_estimators=300; total time=   2.2s\n"
     ]
    },
    {
     "data": {
      "text/html": [
       "<style>#sk-container-id-2 {color: black;}#sk-container-id-2 pre{padding: 0;}#sk-container-id-2 div.sk-toggleable {background-color: white;}#sk-container-id-2 label.sk-toggleable__label {cursor: pointer;display: block;width: 100%;margin-bottom: 0;padding: 0.3em;box-sizing: border-box;text-align: center;}#sk-container-id-2 label.sk-toggleable__label-arrow:before {content: \"▸\";float: left;margin-right: 0.25em;color: #696969;}#sk-container-id-2 label.sk-toggleable__label-arrow:hover:before {color: black;}#sk-container-id-2 div.sk-estimator:hover label.sk-toggleable__label-arrow:before {color: black;}#sk-container-id-2 div.sk-toggleable__content {max-height: 0;max-width: 0;overflow: hidden;text-align: left;background-color: #f0f8ff;}#sk-container-id-2 div.sk-toggleable__content pre {margin: 0.2em;color: black;border-radius: 0.25em;background-color: #f0f8ff;}#sk-container-id-2 input.sk-toggleable__control:checked~div.sk-toggleable__content {max-height: 200px;max-width: 100%;overflow: auto;}#sk-container-id-2 input.sk-toggleable__control:checked~label.sk-toggleable__label-arrow:before {content: \"▾\";}#sk-container-id-2 div.sk-estimator input.sk-toggleable__control:checked~label.sk-toggleable__label {background-color: #d4ebff;}#sk-container-id-2 div.sk-label input.sk-toggleable__control:checked~label.sk-toggleable__label {background-color: #d4ebff;}#sk-container-id-2 input.sk-hidden--visually {border: 0;clip: rect(1px 1px 1px 1px);clip: rect(1px, 1px, 1px, 1px);height: 1px;margin: -1px;overflow: hidden;padding: 0;position: absolute;width: 1px;}#sk-container-id-2 div.sk-estimator {font-family: monospace;background-color: #f0f8ff;border: 1px dotted black;border-radius: 0.25em;box-sizing: border-box;margin-bottom: 0.5em;}#sk-container-id-2 div.sk-estimator:hover {background-color: #d4ebff;}#sk-container-id-2 div.sk-parallel-item::after {content: \"\";width: 100%;border-bottom: 1px solid gray;flex-grow: 1;}#sk-container-id-2 div.sk-label:hover label.sk-toggleable__label {background-color: #d4ebff;}#sk-container-id-2 div.sk-serial::before {content: \"\";position: absolute;border-left: 1px solid gray;box-sizing: border-box;top: 0;bottom: 0;left: 50%;z-index: 0;}#sk-container-id-2 div.sk-serial {display: flex;flex-direction: column;align-items: center;background-color: white;padding-right: 0.2em;padding-left: 0.2em;position: relative;}#sk-container-id-2 div.sk-item {position: relative;z-index: 1;}#sk-container-id-2 div.sk-parallel {display: flex;align-items: stretch;justify-content: center;background-color: white;position: relative;}#sk-container-id-2 div.sk-item::before, #sk-container-id-2 div.sk-parallel-item::before {content: \"\";position: absolute;border-left: 1px solid gray;box-sizing: border-box;top: 0;bottom: 0;left: 50%;z-index: -1;}#sk-container-id-2 div.sk-parallel-item {display: flex;flex-direction: column;z-index: 1;position: relative;background-color: white;}#sk-container-id-2 div.sk-parallel-item:first-child::after {align-self: flex-end;width: 50%;}#sk-container-id-2 div.sk-parallel-item:last-child::after {align-self: flex-start;width: 50%;}#sk-container-id-2 div.sk-parallel-item:only-child::after {width: 0;}#sk-container-id-2 div.sk-dashed-wrapped {border: 1px dashed gray;margin: 0 0.4em 0.5em 0.4em;box-sizing: border-box;padding-bottom: 0.4em;background-color: white;}#sk-container-id-2 div.sk-label label {font-family: monospace;font-weight: bold;display: inline-block;line-height: 1.2em;}#sk-container-id-2 div.sk-label-container {text-align: center;}#sk-container-id-2 div.sk-container {/* jupyter's `normalize.less` sets `[hidden] { display: none; }` but bootstrap.min.css set `[hidden] { display: none !important; }` so we also need the `!important` here to be able to override the default hidden behavior on the sphinx rendered scikit-learn.org. See: https://github.com/scikit-learn/scikit-learn/issues/21755 */display: inline-block !important;position: relative;}#sk-container-id-2 div.sk-text-repr-fallback {display: none;}</style><div id=\"sk-container-id-2\" class=\"sk-top-container\"><div class=\"sk-text-repr-fallback\"><pre>GridSearchCV(cv=3, estimator=RandomForestClassifier(random_state=42),\n",
       "             param_grid={&#x27;class_weight&#x27;: [&#x27;balanced&#x27;],\n",
       "                         &#x27;max_depth&#x27;: [10, 20, 30],\n",
       "                         &#x27;min_samples_leaf&#x27;: [1, 2, 4],\n",
       "                         &#x27;min_samples_split&#x27;: [2, 5, 10],\n",
       "                         &#x27;n_estimators&#x27;: [100, 200, 300]},\n",
       "             scoring=&#x27;accuracy&#x27;, verbose=2)</pre><b>In a Jupyter environment, please rerun this cell to show the HTML representation or trust the notebook. <br />On GitHub, the HTML representation is unable to render, please try loading this page with nbviewer.org.</b></div><div class=\"sk-container\" hidden><div class=\"sk-item sk-dashed-wrapped\"><div class=\"sk-label-container\"><div class=\"sk-label sk-toggleable\"><input class=\"sk-toggleable__control sk-hidden--visually\" id=\"sk-estimator-id-4\" type=\"checkbox\" ><label for=\"sk-estimator-id-4\" class=\"sk-toggleable__label sk-toggleable__label-arrow\">GridSearchCV</label><div class=\"sk-toggleable__content\"><pre>GridSearchCV(cv=3, estimator=RandomForestClassifier(random_state=42),\n",
       "             param_grid={&#x27;class_weight&#x27;: [&#x27;balanced&#x27;],\n",
       "                         &#x27;max_depth&#x27;: [10, 20, 30],\n",
       "                         &#x27;min_samples_leaf&#x27;: [1, 2, 4],\n",
       "                         &#x27;min_samples_split&#x27;: [2, 5, 10],\n",
       "                         &#x27;n_estimators&#x27;: [100, 200, 300]},\n",
       "             scoring=&#x27;accuracy&#x27;, verbose=2)</pre></div></div></div><div class=\"sk-parallel\"><div class=\"sk-parallel-item\"><div class=\"sk-item\"><div class=\"sk-label-container\"><div class=\"sk-label sk-toggleable\"><input class=\"sk-toggleable__control sk-hidden--visually\" id=\"sk-estimator-id-5\" type=\"checkbox\" ><label for=\"sk-estimator-id-5\" class=\"sk-toggleable__label sk-toggleable__label-arrow\">estimator: RandomForestClassifier</label><div class=\"sk-toggleable__content\"><pre>RandomForestClassifier(random_state=42)</pre></div></div></div><div class=\"sk-serial\"><div class=\"sk-item\"><div class=\"sk-estimator sk-toggleable\"><input class=\"sk-toggleable__control sk-hidden--visually\" id=\"sk-estimator-id-6\" type=\"checkbox\" ><label for=\"sk-estimator-id-6\" class=\"sk-toggleable__label sk-toggleable__label-arrow\">RandomForestClassifier</label><div class=\"sk-toggleable__content\"><pre>RandomForestClassifier(random_state=42)</pre></div></div></div></div></div></div></div></div></div></div>"
      ],
      "text/plain": [
       "GridSearchCV(cv=3, estimator=RandomForestClassifier(random_state=42),\n",
       "             param_grid={'class_weight': ['balanced'],\n",
       "                         'max_depth': [10, 20, 30],\n",
       "                         'min_samples_leaf': [1, 2, 4],\n",
       "                         'min_samples_split': [2, 5, 10],\n",
       "                         'n_estimators': [100, 200, 300]},\n",
       "             scoring='accuracy', verbose=2)"
      ]
     },
     "execution_count": 47,
     "metadata": {},
     "output_type": "execute_result"
    }
   ],
   "source": [
    "# Hyperparameter Tuning with GridSearchCV\n",
    "print(\"Tuning model hyperparameters...\")\n",
    "param_grid = {\n",
    "    'n_estimators': [100, 200, 300],\n",
    "    'max_depth': [10, 20, 30],\n",
    "    'min_samples_split': [2, 5, 10],\n",
    "    'min_samples_leaf': [1, 2, 4],\n",
    "    'class_weight': ['balanced']\n",
    "}\n",
    "\n",
    "model = RandomForestClassifier(random_state=42)\n",
    "grid_search = GridSearchCV(estimator=model, param_grid=param_grid, scoring='accuracy', cv=3, verbose=2)\n",
    "grid_search.fit(X_train, y_train)"
   ]
  },
  {
   "cell_type": "code",
   "execution_count": 48,
   "id": "ce5fb564-31b0-43da-a693-4a1872a55794",
   "metadata": {},
   "outputs": [
    {
     "name": "stdout",
     "output_type": "stream",
     "text": [
      "Best Model Parameters: {'class_weight': 'balanced', 'max_depth': 10, 'min_samples_leaf': 1, 'min_samples_split': 2, 'n_estimators': 100}\n"
     ]
    }
   ],
   "source": [
    "# Use the best model from GridSearchCV\n",
    "best_model = grid_search.best_estimator_\n",
    "print(f\"Best Model Parameters: {grid_search.best_params_}\")"
   ]
  },
  {
   "cell_type": "code",
   "execution_count": 49,
   "id": "18cad73a-94f8-4732-a2c4-cb8c92325899",
   "metadata": {},
   "outputs": [
    {
     "name": "stdout",
     "output_type": "stream",
     "text": [
      "\n",
      "Classification Report:\n",
      "              precision    recall  f1-score   support\n",
      "\n",
      "           0       1.00      1.00      1.00      3794\n",
      "           1       1.00      1.00      1.00      3828\n",
      "\n",
      "    accuracy                           1.00      7622\n",
      "   macro avg       1.00      1.00      1.00      7622\n",
      "weighted avg       1.00      1.00      1.00      7622\n",
      "\n",
      "Accuracy: 1.00\n",
      "ROC-AUC Score: 1.00\n"
     ]
    }
   ],
   "source": [
    "# Evaluate the Model\n",
    "y_pred = best_model.predict(X_test)\n",
    "accuracy = accuracy_score(y_test, y_pred)\n",
    "roc_auc = roc_auc_score(y_test, best_model.predict_proba(X_test)[:, 1])\n",
    "\n",
    "print(\"\\nClassification Report:\")\n",
    "print(classification_report(y_test, y_pred))\n",
    "print(f\"Accuracy: {accuracy:.2f}\")\n",
    "print(f\"ROC-AUC Score: {roc_auc:.2f}\")"
   ]
  },
  {
   "cell_type": "code",
   "execution_count": 50,
   "id": "c6956254-33c2-462f-ae5f-aa8a55b7dfa4",
   "metadata": {},
   "outputs": [
    {
     "name": "stdout",
     "output_type": "stream",
     "text": [
      "\n",
      "Model saved to optimized_fraud_detection_model.pkl\n",
      "\n",
      "Sample Predictions:\n",
      "[0 1 0 0 1]\n"
     ]
    }
   ],
   "source": [
    "# Save the Trained Model to a .pkl File\n",
    "if accuracy >= 0.9:\n",
    "    model_file_path = 'optimized_fraud_detection_model.pkl'\n",
    "    with open(model_file_path, 'wb') as file:\n",
    "        pickle.dump(best_model, file)\n",
    "    print(f\"\\nModel saved to {model_file_path}\")\n",
    "else:\n",
    "    print(\"\\nThe model did not achieve the desired 90% accuracy.\")\n",
    "\n",
    "# Load and Test the Saved Model (Optional)\n",
    "with open(model_file_path, 'rb') as file:\n",
    "    loaded_model = pickle.load(file)\n",
    "\n",
    "sample_data = X_test.iloc[:5]\n",
    "sample_predictions = loaded_model.predict(sample_data)\n",
    "print(\"\\nSample Predictions:\")\n",
    "print(sample_predictions)"
   ]
  },
  {
   "cell_type": "code",
   "execution_count": 51,
   "id": "5fce77b3-b691-439d-97c3-d6409ce493fb",
   "metadata": {},
   "outputs": [
    {
     "data": {
      "text/plain": [
       "['optimized_fraud_detection_model.joblib']"
      ]
     },
     "execution_count": 51,
     "metadata": {},
     "output_type": "execute_result"
    }
   ],
   "source": [
    "import joblib\n",
    "joblib.dump(best_model, 'optimized_fraud_detection_model.joblib')"
   ]
  },
  {
   "cell_type": "code",
   "execution_count": 52,
   "id": "ed0be4d7-81dc-41d5-89c0-52d8e90ed8d4",
   "metadata": {},
   "outputs": [],
   "source": [
    "import joblib\n",
    "loaded_model = joblib.load('optimized_fraud_detection_model.joblib')"
   ]
  },
  {
   "cell_type": "code",
   "execution_count": 53,
   "id": "c4fea3e1-292e-46ec-a771-51e8fc509a28",
   "metadata": {},
   "outputs": [],
   "source": [
    "# Prepare the data (replace with your full dataset)\n",
    "X_full = data.drop(['TRANSACTION_ID', 'TX_DATETIME', 'TX_FRAUD'], axis=1)"
   ]
  },
  {
   "cell_type": "code",
   "execution_count": 54,
   "id": "c4fdefed-0f9b-492e-b780-33c920567820",
   "metadata": {},
   "outputs": [],
   "source": [
    "y_pred_full = loaded_model.predict(X_full)"
   ]
  },
  {
   "cell_type": "code",
   "execution_count": 55,
   "id": "2f281690-14aa-442b-831d-c94c63144f7d",
   "metadata": {},
   "outputs": [
    {
     "name": "stdout",
     "output_type": "stream",
     "text": [
      "Accuracy on Full Dataset: 1.0000\n"
     ]
    }
   ],
   "source": [
    "accuracy_full = accuracy_score(data['TX_FRAUD'], y_pred_full)\n",
    "print(f\"Accuracy on Full Dataset: {accuracy_full:.4f}\")"
   ]
  },
  {
   "cell_type": "code",
   "execution_count": 56,
   "id": "40261901-2889-4a27-b2a3-cf315ab2983e",
   "metadata": {},
   "outputs": [
    {
     "name": "stdout",
     "output_type": "stream",
     "text": [
      "\n",
      "Full Dataset Classification Report:\n",
      "              precision    recall  f1-score   support\n",
      "\n",
      "           0       1.00      1.00      1.00     19055\n",
      "           1       1.00      1.00      1.00        16\n",
      "\n",
      "    accuracy                           1.00     19071\n",
      "   macro avg       1.00      1.00      1.00     19071\n",
      "weighted avg       1.00      1.00      1.00     19071\n",
      "\n"
     ]
    }
   ],
   "source": [
    "print(\"\\nFull Dataset Classification Report:\")\n",
    "print(classification_report(data['TX_FRAUD'], y_pred_full))"
   ]
  },
  {
   "cell_type": "code",
   "execution_count": 57,
   "id": "0fb7d704-71a4-4d1e-80be-3d5bf7e5588b",
   "metadata": {},
   "outputs": [
    {
     "name": "stdout",
     "output_type": "stream",
     "text": [
      "\n",
      "Confusion Matrix:\n",
      "[[19055     0]\n",
      " [    0    16]]\n"
     ]
    }
   ],
   "source": [
    "from sklearn.metrics import confusion_matrix\n",
    "\n",
    "cm = confusion_matrix(data['TX_FRAUD'], y_pred_full)\n",
    "print(\"\\nConfusion Matrix:\")\n",
    "print(cm)"
   ]
  },
  {
   "cell_type": "code",
   "execution_count": 59,
   "id": "e1a5b999-eebc-4d7b-b5f9-e3d39326fe58",
   "metadata": {},
   "outputs": [
    {
     "name": "stdout",
     "output_type": "stream",
     "text": [
      "Predictions saved to 'fraud_detection_results.csv'.\n"
     ]
    }
   ],
   "source": [
    "data['PREDICTED_TX_FRAUD'] = y_pred_full\n",
    "\n",
    "# Save the results to a CSV\n",
    "data.to_csv('fraud_detection_results.csv', index=False)\n",
    "print(\"Predictions saved to 'fraud_detection_results.csv'.\")"
   ]
  }
 ],
 "metadata": {
  "kernelspec": {
   "display_name": "Python 3 (ipykernel)",
   "language": "python",
   "name": "python3"
  },
  "language_info": {
   "codemirror_mode": {
    "name": "ipython",
    "version": 3
   },
   "file_extension": ".py",
   "mimetype": "text/x-python",
   "name": "python",
   "nbconvert_exporter": "python",
   "pygments_lexer": "ipython3",
   "version": "3.12.7"
  }
 },
 "nbformat": 4,
 "nbformat_minor": 5
}
